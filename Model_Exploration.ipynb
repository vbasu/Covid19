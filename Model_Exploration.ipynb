{
 "cells": [
  {
   "cell_type": "code",
   "execution_count": 2,
   "metadata": {},
   "outputs": [],
   "source": [
    "import SEIR\n",
    "import pandas as pd\n",
    "import numpy as np\n",
    "import scipy as sp\n",
    "import matplotlib.pyplot as plt\n",
    "import chart_studio.plotly as py\n",
    "import plotly.graph_objects as go\n",
    "import plotly.figure_factory as ff\n",
    "import chart_studio\n",
    "import plotly.io as pio\n",
    "chart_studio.tools.set_credentials_file(username='vbasu', api_key='kkp8GUUBC0dDBITgs53U')"
   ]
  },
  {
   "cell_type": "code",
   "execution_count": 3,
   "metadata": {},
   "outputs": [],
   "source": [
    "def plot_data(df, title):  # Function to plot data for a model\n",
    "    diseased = go.Scatter(x=df.index, y=df['Diseased'], name='Diseased')\n",
    "    susceptible = go.Scatter(x=df.index, y=df['Susceptible'], name='Susceptible')\n",
    "    recovered = go.Scatter(x=df.index, y=df['Recovered'], name='Recovered')\n",
    "    removed = go.Scatter(x=df.index, y=df['Removed'], name='Removed')\n",
    "    data = [diseased, susceptible, recovered, removed]\n",
    "    figure = go.Figure(data)\n",
    "    figure.update_yaxes(title_text='Agents')\n",
    "    figure.update_xaxes(title_text='Days')\n",
    "    figure_info = {'title' : 'Basic Example'}\n",
    "    figure.update_layout(\n",
    "            title={\n",
    "            'text': title,\n",
    "            'y':0.9,\n",
    "            'x':0.5,\n",
    "            'xanchor': 'center',\n",
    "            'yanchor': 'top'})\n",
    "    return figure"
   ]
  },
  {
   "cell_type": "markdown",
   "metadata": {},
   "source": [
    "Here we import an example of a single population model with the following parameters\n",
    "* $\\alpha=0.7$\n",
    "* spread chance = 0.005\n",
    "* initial outbreak size = 10\n",
    "* $P_{EAY}=P_{AR}=P_{YR}=0.2$\n",
    "* Infinite immunity\n",
    "* Death rate = 0.01"
   ]
  },
  {
   "cell_type": "code",
   "execution_count": 3,
   "metadata": {},
   "outputs": [
    {
     "data": {
      "text/html": [
       "\n",
       "        <iframe\n",
       "            width=\"100%\"\n",
       "            height=\"525px\"\n",
       "            src=\"https://plotly.com/~vbasu/65.embed\"\n",
       "            frameborder=\"0\"\n",
       "            allowfullscreen\n",
       "        ></iframe>\n",
       "        "
      ],
      "text/plain": [
       "<IPython.lib.display.IFrame at 0x7fca6a3c6cd0>"
      ]
     },
     "execution_count": 3,
     "metadata": {},
     "output_type": "execute_result"
    }
   ],
   "source": [
    "basic_example_model =  SEIR.load_model('Models/Basic_example')\n",
    "basic_df = basic_example_model.get_data()\n",
    "fig = plot_data(basic_df, \"Basic Example\")\n",
    "py.iplot(fig)"
   ]
  },
  {
   "cell_type": "markdown",
   "metadata": {},
   "source": [
    "Now if we add \"feedback,\" or an immunity period of only 60 days as compared to infinite immunity above, we see the disease is endemic to the population"
   ]
  },
  {
   "cell_type": "code",
   "execution_count": 4,
   "metadata": {},
   "outputs": [
    {
     "data": {
      "text/html": [
       "\n",
       "        <iframe\n",
       "            width=\"100%\"\n",
       "            height=\"525px\"\n",
       "            src=\"https://plotly.com/~vbasu/67.embed\"\n",
       "            frameborder=\"0\"\n",
       "            allowfullscreen\n",
       "        ></iframe>\n",
       "        "
      ],
      "text/plain": [
       "<IPython.lib.display.IFrame at 0x7fca6a3ea550>"
      ]
     },
     "execution_count": 4,
     "metadata": {},
     "output_type": "execute_result"
    }
   ],
   "source": [
    "basic_example_feedback_model =  SEIR.load_model('Models/Basic_example_feedback')\n",
    "basic_df_example_feedback = basic_example_feedback_model.get_data()\n",
    "fig = plot_data(basic_df_example_feedback, \"Basic Feedback Example\")\n",
    "py.iplot(fig)"
   ]
  },
  {
   "cell_type": "code",
   "execution_count": 7,
   "metadata": {},
   "outputs": [
    {
     "data": {
      "text/html": [
       "\n",
       "        <iframe\n",
       "            width=\"100%\"\n",
       "            height=\"525px\"\n",
       "            src=\"https://plotly.com/~vbasu/71.embed\"\n",
       "            frameborder=\"0\"\n",
       "            allowfullscreen\n",
       "        ></iframe>\n",
       "        "
      ],
      "text/plain": [
       "<IPython.lib.display.IFrame at 0x7fca25fc4e10>"
      ]
     },
     "execution_count": 7,
     "metadata": {},
     "output_type": "execute_result"
    }
   ],
   "source": [
    "social_distancing_control_model = SEIR.load_model('Models/social_distancing_example_control')\n",
    "sd_df_control = social_distancing_control_model.get_data()\n",
    "fig = plot_data(sd_df_control, \"Social Distancing Control Example\")\n",
    "py.iplot(fig)"
   ]
  },
  {
   "cell_type": "code",
   "execution_count": 9,
   "metadata": {},
   "outputs": [
    {
     "data": {
      "text/html": [
       "\n",
       "        <iframe\n",
       "            width=\"100%\"\n",
       "            height=\"525px\"\n",
       "            src=\"https://plotly.com/~vbasu/75.embed\"\n",
       "            frameborder=\"0\"\n",
       "            allowfullscreen\n",
       "        ></iframe>\n",
       "        "
      ],
      "text/plain": [
       "<IPython.lib.display.IFrame at 0x7fca6a460f50>"
      ]
     },
     "execution_count": 9,
     "metadata": {},
     "output_type": "execute_result"
    }
   ],
   "source": [
    "social_distancing_model = SEIR.load_model('Models/social_distancing_example')\n",
    "sd_df = social_distancing_model.get_data()\n",
    "fig = plot_data(sd_df, \"Social Distancing Example\")\n",
    "py.iplot(fig)"
   ]
  },
  {
   "cell_type": "code",
   "execution_count": 11,
   "metadata": {},
   "outputs": [
    {
     "data": {
      "text/html": [
       "\n",
       "        <iframe\n",
       "            width=\"100%\"\n",
       "            height=\"525px\"\n",
       "            src=\"https://plotly.com/~vbasu/77.embed\"\n",
       "            frameborder=\"0\"\n",
       "            allowfullscreen\n",
       "        ></iframe>\n",
       "        "
      ],
      "text/plain": [
       "<IPython.lib.display.IFrame at 0x7fca4cacd650>"
      ]
     },
     "execution_count": 11,
     "metadata": {},
     "output_type": "execute_result"
    }
   ],
   "source": [
    "sd_df_trunc = sd_df.head(len(sd_df_control))\n",
    "fig = plot_data(sd_df_trunc, \"Social Distancing Truncated\")\n",
    "py.iplot(fig)"
   ]
  },
  {
   "cell_type": "code",
   "execution_count": 19,
   "metadata": {},
   "outputs": [
    {
     "data": {
      "text/html": [
       "\n",
       "        <iframe\n",
       "            width=\"100%\"\n",
       "            height=\"525px\"\n",
       "            src=\"https://plotly.com/~vbasu/83.embed\"\n",
       "            frameborder=\"0\"\n",
       "            allowfullscreen\n",
       "        ></iframe>\n",
       "        "
      ],
      "text/plain": [
       "<IPython.lib.display.IFrame at 0x7fca488ef650>"
      ]
     },
     "execution_count": 19,
     "metadata": {},
     "output_type": "execute_result"
    }
   ],
   "source": [
    "diseased = go.Scatter(x=sd_df_trunc.index, y=sd_df_trunc['Diseased'], name='Diseased', line=dict(color='royalblue', dash='dash'))\n",
    "susceptible = go.Scatter(x=sd_df_trunc.index, y=sd_df_trunc['Susceptible'], name='Susceptible', line=dict(color='firebrick', dash='dash'))\n",
    "recovered = go.Scatter(x=sd_df_trunc.index, y=sd_df_trunc['Recovered'], name='Recovered', line=dict(color='green', dash='dash'))\n",
    "removed = go.Scatter(x=sd_df_trunc.index, y=sd_df_trunc['Removed'], name='Removed', line=dict(color='magenta', dash='dash'))\n",
    "\n",
    "diseased_control = go.Scatter(x=sd_df_control.index, y=sd_df_control['Diseased'], name='Diseased Control', line=dict(color='royalblue'))\n",
    "susceptible_control = go.Scatter(x=sd_df_control.index, y=sd_df_control['Susceptible'], name='Susceptible Control', line=dict(color='firebrick'))\n",
    "recovered_control = go.Scatter(x=sd_df_control.index, y=sd_df_control['Recovered'], name='Recovered Control', line=dict(color='green'))\n",
    "removed_control = go.Scatter(x=sd_df_control.index, y=sd_df_control['Removed'], name='Removed Control', line=dict(color='magenta'))\n",
    "\n",
    "data = [diseased, susceptible, recovered, removed, \n",
    "        diseased_control, susceptible_control, recovered_control, removed_control]\n",
    "\n",
    "figure = go.Figure(data)\n",
    "figure.update_yaxes(title_text='Agents')\n",
    "figure.update_xaxes(title_text='Days')\n",
    "figure_info = {'title' : 'Basic Example'}\n",
    "figure.update_layout(\n",
    "        title={\n",
    "        'text': \"Social Distancing Comparison\",\n",
    "        'y':0.9,\n",
    "        'x':0.5,\n",
    "        'xanchor': 'center',\n",
    "        'yanchor': 'top'})\n",
    "py.iplot(figure)"
   ]
  },
  {
   "cell_type": "code",
   "execution_count": 10,
   "metadata": {},
   "outputs": [
    {
     "data": {
      "text/html": [
       "\n",
       "        <iframe\n",
       "            width=\"100%\"\n",
       "            height=\"525px\"\n",
       "            src=\"https://plotly.com/~vbasu/113.embed\"\n",
       "            frameborder=\"0\"\n",
       "            allowfullscreen\n",
       "        ></iframe>\n",
       "        "
      ],
      "text/plain": [
       "<IPython.lib.display.IFrame at 0x7fd475c68ed0>"
      ]
     },
     "execution_count": 10,
     "metadata": {},
     "output_type": "execute_result"
    }
   ],
   "source": [
    "model_min = SEIR.load_model('Models/variation_test_min')\n",
    "df_min = model_min.get_data()\n",
    "fig = plot_data(df_min, \"Variation Demo: Minimum\")\n",
    "py.iplot(fig)"
   ]
  },
  {
   "cell_type": "code",
   "execution_count": 11,
   "metadata": {},
   "outputs": [
    {
     "data": {
      "text/html": [
       "\n",
       "        <iframe\n",
       "            width=\"100%\"\n",
       "            height=\"525px\"\n",
       "            src=\"https://plotly.com/~vbasu/115.embed\"\n",
       "            frameborder=\"0\"\n",
       "            allowfullscreen\n",
       "        ></iframe>\n",
       "        "
      ],
      "text/plain": [
       "<IPython.lib.display.IFrame at 0x7fd43b9c1d50>"
      ]
     },
     "execution_count": 11,
     "metadata": {},
     "output_type": "execute_result"
    }
   ],
   "source": [
    "model_max = SEIR.load_model('Models/variation_test_max')\n",
    "df_max = model_max.get_data()\n",
    "fig = plot_data(df_max, \"Variation Demo: Maximum\")\n",
    "py.iplot(fig)"
   ]
  },
  {
   "cell_type": "code",
   "execution_count": 14,
   "metadata": {},
   "outputs": [
    {
     "data": {
      "text/html": [
       "\n",
       "        <iframe\n",
       "            width=\"100%\"\n",
       "            height=\"525px\"\n",
       "            src=\"https://plotly.com/~vbasu/121.embed\"\n",
       "            frameborder=\"0\"\n",
       "            allowfullscreen\n",
       "        ></iframe>\n",
       "        "
      ],
      "text/plain": [
       "<IPython.lib.display.IFrame at 0x7fd46330da10>"
      ]
     },
     "execution_count": 14,
     "metadata": {},
     "output_type": "execute_result"
    }
   ],
   "source": [
    "model_min = SEIR.load_model('Models/variation_test_min')\n",
    "df_min = model_min.get_data()\n",
    "\n",
    "model_max = SEIR.load_model('Models/variation_test_max')\n",
    "df_max = model_max.get_data()\n",
    "\n",
    "diseased = go.Scatter(x=df_min.index, y=df_min['Diseased'], name='Diseased 1', line=dict(color='royalblue', dash='dash'))\n",
    "susceptible = go.Scatter(x=df_min.index, y=df_min['Susceptible'], name='Susceptible 1', line=dict(color='firebrick', dash='dash'))\n",
    "recovered = go.Scatter(x=df_min.index, y=df_min['Recovered'], name='Recovered 1', line=dict(color='green', dash='dash'))\n",
    "removed = go.Scatter(x=df_min.index, y=df_min['Removed'], name='Removed 1', line=dict(color='magenta', dash='dash'))\n",
    "\n",
    "diseased_control = go.Scatter(x=df_max.index, y=df_max['Diseased'], name='Diseased 2', line=dict(color='royalblue'))\n",
    "susceptible_control = go.Scatter(x=df_max.index, y=df_max['Susceptible'], name='Susceptible 2', line=dict(color='firebrick'))\n",
    "recovered_control = go.Scatter(x=df_max.index, y=df_max['Recovered'], name='Recovered 2', line=dict(color='green'))\n",
    "removed_control = go.Scatter(x=df_max.index, y=df_max['Removed'], name='Removed 2', line=dict(color='magenta'))\n",
    "\n",
    "data = [diseased, susceptible, recovered, removed, \n",
    "        diseased_control, susceptible_control, recovered_control, removed_control]\n",
    "\n",
    "figure = go.Figure(data)\n",
    "figure.update_yaxes(title_text='Agents')\n",
    "figure.update_xaxes(title_text='Days')\n",
    "figure.update_layout(\n",
    "        title={\n",
    "        'text': \"Identical Parameter Comparison\",\n",
    "        'y':0.9,\n",
    "        'x':0.5,\n",
    "        'xanchor': 'center',\n",
    "        'yanchor': 'top'})\n",
    "py.iplot(figure)"
   ]
  },
  {
   "cell_type": "code",
   "execution_count": null,
   "metadata": {},
   "outputs": [],
   "source": []
  }
 ],
 "metadata": {
  "kernelspec": {
   "display_name": "Python 3",
   "language": "python",
   "name": "python3"
  },
  "language_info": {
   "codemirror_mode": {
    "name": "ipython",
    "version": 3
   },
   "file_extension": ".py",
   "mimetype": "text/x-python",
   "name": "python",
   "nbconvert_exporter": "python",
   "pygments_lexer": "ipython3",
   "version": "3.7.6"
  }
 },
 "nbformat": 4,
 "nbformat_minor": 4
}
